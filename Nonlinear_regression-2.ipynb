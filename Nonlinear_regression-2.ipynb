{
  "nbformat": 4,
  "nbformat_minor": 0,
  "metadata": {
    "colab": {
      "name": "Nonlinear_regression.ipynb",
      "provenance": [],
      "collapsed_sections": []
    },
    "kernelspec": {
      "name": "python3",
      "display_name": "Python 3"
    },
    "language_info": {
      "name": "python"
    }
  },
  "cells": [
    {
      "cell_type": "markdown",
      "metadata": {
        "id": "WiOHuXeScwMb"
      },
      "source": [
        "#基底関数モデルによる非線形回帰\n",
        "今回のPython演習では基底関数モデルに基づく非線形回帰を復習します"
      ]
    },
    {
      "cell_type": "markdown",
      "metadata": {
        "id": "NUlZiO8rdWWd"
      },
      "source": [
        "#1. 株価変動データ\n",
        "今回は，株価変動の時系列データをモデリングしてみたいと思います．このようなデータを扱う場合は[自己回帰モデル](https://www.google.com/search?q=%E8%87%AA%E5%B7%B1%E5%9B%9E%E5%B8%B0%E3%83%A2%E3%83%87%E3%83%AB)の方が一般的だと思いますが，あくまで講義で紹介した**基底関数モデルを理解するための題材**として考えてください．\n",
        "\n",
        "まずは，以下のプログラムを実行してどのようなデータか見ていきましょう．"
      ]
    },
    {
      "cell_type": "code",
      "metadata": {
        "id": "OD7ZMIDzcc6D",
        "cellView": "form"
      },
      "source": [
        "#@title データの読み込みと可視化\n",
        "%matplotlib inline\n",
        "import pandas_datareader.data as web\n",
        "import datetime\n",
        "import numpy as np\n",
        "import matplotlib.pyplot as plt\n",
        "\n",
        "start = datetime.datetime(2021,1,1)\n",
        "end   = datetime.datetime(2021,10,1)\n",
        "\n",
        "data = (web.DataReader('NASDAQCOM','fred',start,end)).dropna()\n",
        "y_true = data.values[:,0]\n",
        "\n",
        "N = len(y_true)\n",
        "Ntrain = round(0.2*N)\n",
        "Ntest  = N - Ntrain\n",
        "\n",
        "index = np.random.permutation(N)\n",
        "index_train = np.sort(index[0:Ntrain])\n",
        "index_test  = np.sort(index[Ntrain:N])\n",
        "\n",
        "y_train = y_true[index_train]\n",
        "y_test  = y_true[index_test]\n",
        "\n",
        "fig  = plt.figure(figsize=(10,3))\n",
        "axes = fig.subplots(1,2)\n",
        "axes[0].scatter(index_train, y_train, c='red', s=15)\n",
        "axes[0].set_ylabel('Stock Price', fontsize=15)\n",
        "axes[0].set_xlabel('Dates', fontsize=15)\n",
        "axes[0].set_title('Training data', fontsize=17)\n",
        "axes[1].scatter(index_test, y_test, s=15)\n",
        "axes[1].set_ylabel('Stock Price', fontsize=15)\n",
        "axes[1].set_xlabel('Dates', fontsize=15)\n",
        "axes[1].set_title('Test data', fontsize=17)\n",
        "print('done')"
      ],
      "execution_count": null,
      "outputs": []
    },
    {
      "cell_type": "markdown",
      "metadata": {
        "id": "_LT7CF03hvzh"
      },
      "source": [
        "プログラムを実行すると，左に訓練データ(Training data)，右にテストデータ(Test data)が表示されると思います．以下の手順で演習を行っていきます．\n",
        "* **基底関数モデルを定義**する\n",
        "* **訓練データとの二乗誤差**に基づいて基底関数モデルを最適化する\n",
        "* 最適化した基底関数モデルを**テストデータとの二乗誤差**によって評価する\n"
      ]
    },
    {
      "cell_type": "markdown",
      "metadata": {
        "id": "mfFJL0p0i4g8"
      },
      "source": [
        "# 2. 基底関数モデルの定義\n",
        "まずは，基底関数モデルを定義します．株価を$y$，時間を$x$とおきます．モデルに期待する機能は$x$を入力したときに$y$を推定することです．つまり，$y$の推定値は$\\hat{y} = f(x)$の式で与えられます．ここで関数$f(x)$がモデルです．\n",
        "\n",
        "パラメータ$\\boldsymbol{\\beta}$を用いて，基底関数モデルを以下のように定義します．<br>\n",
        "基底関数モデル：$f(x|\\boldsymbol{\\beta}) = \\boldsymbol{\\beta}^\\top \\boldsymbol{h}(x)$<br>\n",
        "基底関数モデルの性質は基底関数によって決まります．本演習では以下の2種類の基底関数を使っていきたいと思います．\n",
        "* 多項式関数 ($1, x, x^2, x^3, ...$)\n",
        "* 三角関数 ($\\sin, \\cos, \\tan$)"
      ]
    },
    {
      "cell_type": "markdown",
      "metadata": {
        "id": "Op2qNCg-ljBK"
      },
      "source": [
        "##2.1 多項式基底関数の生成\n",
        "$k$次の多項式基底関数を以下の式で定義します．<br>\n",
        "基底関数：$h_p(x,k) := \\left(\\frac{x - \\mu}{\\mu}\\right)^k$<br>\n",
        "ただし，$\\mu = \\frac{N-1}{2}$と置きます．\n",
        "次に，$k=0$から$k=K$までの基底関数を並べて以下のベクトル値関数を考えます．<br>\n",
        "$\\boldsymbol{h}_p(x) := \\begin{pmatrix} h_p(x,0) \\\\ h_p(x,1) \\\\ \\vdots \\\\ h_p(x,K) \\end{pmatrix} = \\begin{pmatrix} \\left(\\frac{x - \\mu}{\\mu}\\right)^0 \\\\ \\left(\\frac{x - \\mu}{\\mu}\\right)^1 \\\\ \\vdots \\\\ \\left(\\frac{x - \\mu}{\\mu}\\right)^K \\end{pmatrix}$<br>\n",
        "<font size=2 color=gray>\n",
        "【ちょこっと解説】まず，$k=0$の時は任意の入力で1となるので，切片項のようなものです．また，$k=1$のときは1次の項+定数項に分解でき，定数項は$k=0$に吸収されるので本質的には傾き項が重要となります．$k$が大きい場合でも，展開すれば$k$以下の項しか出てこないため，本質的には$k$次の項が重要となります．任意の$\\boldsymbol{\\beta}$に対応する$\\boldsymbol{\\alpha}$が存在して，$f(x|\\boldsymbol{\\beta}) = \\sum_{k=0}^K \\alpha_k x^k$を満たします．ただし，$x^k$をそのまま基底関数として計算してしまうと，$x$と$k$の両者が大きいときにはコンピュータ上で処理できないほど大きな値を持ってしまいます．今回の多項式基底関数の定義を採用すれば$x \\in [0, N-1]$のときに$-1 \\leq h_p(x,k) \\leq 1$を満たすため，すこし計算が安定します．（$k$をさらに大きくすると今度は他の問題がでてきます．．．）\n",
        "</font>\n",
        "\n",
        "それではプログラムを完成させ，多項式基底関数を生成していきましょう．\n",
        "実際には，xが$\\{0, 1, 2, ..., N-2, N-1\\}$ (計N個) の値を取ると仮定し，行列$Z_p \\in \\mathbb{R}^{N \\times (K+1)} $を作ります．"
      ]
    },
    {
      "cell_type": "code",
      "metadata": {
        "id": "FRsCZLIGcvzC"
      },
      "source": [
        "Kmax = 20\n",
        "\n",
        "Zp = np.zeros([N,Kmax+1])\n",
        "x  = np.array(range(0,N))\n",
        "mu =  # input here\n",
        "\n",
        "for k in range(Kmax+1):\n",
        "  Zp[:,k] =   # input here"
      ],
      "execution_count": null,
      "outputs": []
    },
    {
      "cell_type": "code",
      "metadata": {
        "id": "tDT175MP2ce5"
      },
      "source": [
        "#@title 多項式基底関数の可視化\n",
        "%matplotlib inline\n",
        "fig  = plt.figure(figsize=(10,15))\n",
        "axes = fig.subplots(Kmax+1, 1)\n",
        "for k in range(Kmax+1):\n",
        "  lname = 'k = '+str(k)\n",
        "  axes[k].plot(Zp[:,k],label=lname)\n",
        "  axes[k].set_ylabel('h(x)', fontsize=10)\n",
        "  axes[k].set_xlabel('x', fontsize=10)\n",
        "  axes[k].legend(fontsize=10)\n",
        "print('done')"
      ],
      "execution_count": null,
      "outputs": []
    },
    {
      "cell_type": "markdown",
      "metadata": {
        "id": "EeIDMClonLvp"
      },
      "source": [
        "## 2.2 コサイン基底関数の生成\n",
        "$k$番目のコサイン基底関数を以下の式で定義します．<br>\n",
        "基底関数：$h_c(x,k) := \\cos\\left[ \\frac{k\\pi}{N}(x + \\frac{1}{2}) \\right]$<br>\n",
        "次に，$k=0$から$k=K$までの基底関数を並べて以下のベクトル値関数を考えます．\n",
        "$\\boldsymbol{h}_c(x) := \\begin{pmatrix} h_c(x,0) \\\\ h_c(x,1) \\\\ \\vdots \\\\ h_c(x,K) \\end{pmatrix} = \\begin{pmatrix} \\cos\\left[ \\frac{0\\pi}{N}(x + \\frac{1}{2}) \\right] \\\\ \\cos\\left[ \\frac{\\pi}{N}(x + \\frac{1}{2}) \\right] \\\\ \\vdots \\\\ \\cos\\left[ \\frac{K\\pi}{N}(x + \\frac{1}{2}) \\right] \\end{pmatrix} = \\begin{pmatrix} 1 \\\\ \\cos\\left[ \\frac{\\pi}{N}(x + \\frac{1}{2})\\right] \\\\ \\vdots \\\\  \\cos\\left[ \\frac{K\\pi}{N}(x + \\frac{1}{2})\\right] \\end{pmatrix}$<br>\n",
        "<font size=2 color=gray>\n",
        "【ちょこっと解説】コサイン関数なので基底関数の値は常に $-1 \\leq h_c(x,k) \\leq 1$ を満たします．また，0番目に関しては$\\cos(0)=1$で定数項となります．余談ですが実はこの基底関数はJPEG画像圧縮に使われています．\n",
        "</font>\n",
        "\n",
        "それではプログラムを完成させ，コサイン基底関数を生成していきましょう．\n",
        "実際には，xが$\\{0, 1, 2, ..., N-2, N-1\\}$ (計N個) の値を取ると仮定し，行列$Z_c \\in \\mathbb{R}^{N \\times (K+1)} $を作ります．"
      ]
    },
    {
      "cell_type": "code",
      "metadata": {
        "id": "NGMPFkLJ4oS4"
      },
      "source": [
        "import math\n",
        "\n",
        "Zc = np.zeros([N,Kmax+1])\n",
        "x  = np.array(range(0,N))\n",
        "\n",
        "for k in range(Kmax+1):\n",
        "  Zc[:,k] =   # input here"
      ],
      "execution_count": null,
      "outputs": []
    },
    {
      "cell_type": "code",
      "metadata": {
        "id": "NaECsCYiM_eX"
      },
      "source": [
        "#@title コサイン基底関数の可視化\n",
        "%matplotlib inline\n",
        "fig  = plt.figure(figsize=(10,15))\n",
        "axes = fig.subplots(Kmax+1, 1)\n",
        "for k in range(Kmax+1):\n",
        "  lname = 'k = '+str(k)\n",
        "  axes[k].plot(Zc[:,k],label=lname)\n",
        "  axes[k].set_ylabel('h(x)', fontsize=10)\n",
        "  axes[k].set_xlabel('x', fontsize=10)\n",
        "  axes[k].legend(fontsize=10)\n",
        "print('done')"
      ],
      "execution_count": null,
      "outputs": []
    },
    {
      "cell_type": "markdown",
      "metadata": {
        "id": "TQkuZv_sscZ3"
      },
      "source": [
        "## 2.3 基底関数モデルに基づく曲線の生成\n",
        "2種類の基底関数$\\boldsymbol{h}_p(x)$，$\\boldsymbol{h}_c(x)$を作りました．これに対して係数$\\boldsymbol{\\beta} \\in \\mathbb{R}^{K+1}$を掛け合わせることで，さまざまな関数を作ることができます．\n",
        "\n",
        "試しに，$\\boldsymbol{\\beta}$をランダムに生成して関数を生成してみましょう．実行するたびに異なる関数が生成されます．何回か試してみてください．"
      ]
    },
    {
      "cell_type": "code",
      "metadata": {
        "id": "_GjhysOdtHsz"
      },
      "source": [
        "#betaの生成\n",
        "beta = np.random.randn(Kmax+1, 1) # input here\n",
        "\n",
        "f_p =    # input here\n",
        "f_c =    # input here\n",
        "\n",
        "fig  = plt.figure(figsize=(10,8))\n",
        "axes = fig.subplots(3, 1)\n",
        "axes[0].bar(np.array(range(Kmax+1)),beta[:,0], label='Values of beta')\n",
        "axes[0].legend(fontsize=10)\n",
        "axes[1].plot(f_p,label='polynomial')\n",
        "axes[1].set_ylabel('f(x)', fontsize=10)\n",
        "axes[1].set_xlabel('x', fontsize=10)\n",
        "axes[1].legend(fontsize=10)\n",
        "axes[2].plot(f_c,label='cosine')\n",
        "axes[2].set_ylabel('f(x)', fontsize=10)\n",
        "axes[2].set_xlabel('x', fontsize=10)\n",
        "axes[2].legend(fontsize=10)\n",
        "\n",
        "print('done')"
      ],
      "execution_count": null,
      "outputs": []
    },
    {
      "cell_type": "markdown",
      "metadata": {
        "id": "-zQ54TkfO1ak"
      },
      "source": [
        "# 3. 基底関数モデルのフィッティング\n",
        "いよいよ基底関数モデルの係数$\\boldsymbol{\\beta}$を最適化し，訓練データにフィッティングしていきます．\n",
        "\n",
        "訓練データを$\\{y_i, x_i \\}_{i=1}^{N_\\text{train}}$として，二乗誤差$\\sum_{i=1}^{N_\\text{train}} (y_i - f(x_i; \\boldsymbol{\\beta}))^2 $が最小となるようなパラメータ$\\boldsymbol{\\beta}$を求めます．\n",
        "\n",
        "最小二乗法に基づくパラメータの推定値$\\hat{\\boldsymbol{\\beta}} = [\\hat{\\beta}_0, ..., \\hat{\\beta}_K]^\\top$は以下の式で与えられます．\n",
        "$$\\hat{\\boldsymbol{\\beta}} = (Z^\\top Z)^{-1}Z^\\top \\boldsymbol{y}$$\n",
        "\n",
        "ここで行列$Z \\in \\mathbb{R}^{N_\\text{train} \\times (K+1)}$の各要素は$z_{im} = h(x,m-1)$で与えられます．\n",
        "\n",
        "では，プログラミングしていきましょう．繰り返し処理で，$K=0$の場合から$K=20$まで一気に求めてしまいましょう．\n"
      ]
    },
    {
      "cell_type": "code",
      "metadata": {
        "id": "HxGRD53DO07L",
        "colab": {
          "base_uri": "https://localhost:8080/"
        },
        "outputId": "d26fea83-ea35-4bd2-d811-116ea33a0198"
      },
      "source": [
        "%matplotlib inline\n",
        "y_train  = y_true[index_train]\n",
        "\n",
        "Yp_est=np.zeros([N, Kmax+1])\n",
        "Yc_est=np.zeros([N, Kmax+1])\n",
        "for K in range(Kmax+1):\n",
        "  #polynomial\n",
        "  Zp_train = Zp[index_train,0:K+1]\n",
        "  A =  # input here\n",
        "  b =   # input here\n",
        "  beta_p = np.linalg.inv(A).dot(b) \n",
        "  y_est = np.dot(Zp[:,0:K+1], beta_p)\n",
        "  Yp_est[:,K] = y_est\n",
        "  #cosine\n",
        "  Zc_train = Zc[index_train,0:K+1]\n",
        "  A =  # input here\n",
        "  b =  # input here\n",
        "  beta_c = np.linalg.inv(A).dot(b) \n",
        "  y_est = np.dot(Zc[:,0:K+1], beta_c)\n",
        "  Yc_est[:,K] = y_est\n",
        "\n",
        "print('done')"
      ],
      "execution_count": null,
      "outputs": [
        {
          "output_type": "stream",
          "name": "stdout",
          "text": [
            "done\n"
          ]
        }
      ]
    },
    {
      "cell_type": "markdown",
      "metadata": {
        "id": "Cu5VGCWL-C-R"
      },
      "source": [
        "## 4. 最適化した関数モデルの評価\n",
        "最後に，最適化した基底関数モデルを評価していきます．まずは，得られた関数がどのぐらい訓練データにフィット(適合)しているのかを見ていきたいと思います．\n",
        "\n",
        "$K$の値を変えて，どのような違いあるかを観察してみましょう．"
      ]
    },
    {
      "cell_type": "code",
      "metadata": {
        "id": "PGa0vLHO9-LJ"
      },
      "source": [
        "K = 0 #ここの値を0からの範囲でいろいろ変えて実行してみてください．\n",
        "Y_MIN = 12500\n",
        "Y_MAX = 15500\n",
        "fig  = plt.figure(figsize=(10,3))\n",
        "axes = fig.subplots(1,2)\n",
        "axes[0].scatter(index_train, y_train, c='red', s=15)\n",
        "axes[0].plot(Yp_est[:,K], label='Polynomial function model')\n",
        "axes[0].plot(Yc_est[:,K], label='Cosine function model')\n",
        "axes[0].set_ylabel('Stock Price', fontsize=15)\n",
        "axes[0].set_xlabel('Dates', fontsize=15)\n",
        "axes[0].set_title('Training data(K='+str(K)+')', fontsize=17)\n",
        "axes[0].set_xlim([-5, 155])\n",
        "axes[0].set_ylim([Y_MIN, Y_MAX])\n",
        "axes[0].legend(fontsize=10)\n",
        "axes[1].scatter(index_test, y_test, s=15)\n",
        "axes[1].plot(Yp_est[:,K], label='Polynomial function model')\n",
        "axes[1].plot(Yc_est[:,K], label='Cosine function model')\n",
        "axes[1].set_ylabel('Stock Price', fontsize=15)\n",
        "axes[1].set_xlabel('Dates', fontsize=15)\n",
        "axes[1].set_title('Test data(K='+str(K)+')', fontsize=17)\n",
        "axes[1].set_xlim([-5, 155])\n",
        "axes[1].set_ylim([Y_MIN, Y_MAX])\n",
        "axes[1].legend(fontsize=10)\n",
        "print('done')"
      ],
      "execution_count": null,
      "outputs": []
    },
    {
      "cell_type": "markdown",
      "metadata": {
        "id": "j8OTVZ7qxn34"
      },
      "source": [
        "## 4.1 定量評価\n",
        "結果を目で見ることはとても重要ですが，最適化したモデルの良さを定量的に評価することも同様に重要です．特に，高次元データのフィッティングなど，結果を目で見ることが難しい場合も多くあります．\n",
        "\n",
        "まず，訓練データへの適合度を見るために，平均二乗誤差(MSE: Mean Squared Error)を計算してみましょう．訓練データ$\\{y_i, x_i \\}_{i=1}^{N_\\text{train}}$に関するMSEは<br>\n",
        "$\\text{MSE} = \\frac{1}{N_\\text{train}}\\sum_{i=1}^{N_\\text{train}}(y_i - f(x_i | \\hat{\\boldsymbol{\\beta}}))^2$<br>\n",
        "によって得られます．\n",
        "\n",
        "次に，未知のデータに対する予測の正確さと評価するために，テストデータを用います．テストデータの集合を$\\{\\tilde{y}_j, \\tilde{x}_j \\}_{j=1}^{N_\\text{test}}$として，MSEを以下の式で計算します．<br>\n",
        "$ \\text{MSE} := \\frac{1}{N_\\text{test}} \\sum_{j=1}^{N_\\text{test}}\\left( \\tilde{y}_j - f(\\tilde{x}_j | \\hat{\\boldsymbol{\\beta}}) \\right)^2 $<br>\n",
        "\n",
        "それでは，プログラムを完成させていきましょう．$K$が変わったときの，訓練MSEとテストMSEがどのうように変化するかを観察してみましょう．"
      ]
    },
    {
      "cell_type": "code",
      "metadata": {
        "id": "_Nxo9hXpDCNb"
      },
      "source": [
        "%matplotlib inline\n",
        "\n",
        "y_train  = y_true[index_train]\n",
        "y_test   = y_true[index_test]\n",
        "MSEp_train = np.zeros([Kmax+1])\n",
        "MSEp_test  = np.zeros([Kmax+1])\n",
        "MSEc_train = np.zeros([Kmax+1])\n",
        "MSEc_test  = np.zeros([Kmax+1])\n",
        "for K in range(Kmax+1):\n",
        "  yp_est = Yp_est[:,K]\n",
        "  yp_est_train = yp_est[index_train]\n",
        "  yp_est_test  = yp_est[index_test]\n",
        "  MSEp_train[K] = # input here\n",
        "  MSEp_test[K]  =  # input here\n",
        "  yc_est = Yc_est[:,K]\n",
        "  yc_est_train = yc_est[index_train]\n",
        "  yc_est_test  = yc_est[index_test]\n",
        "  MSEc_train[K] =  # input here\n",
        "  MSEc_test[K]  =  # input here\n",
        "\n",
        "ymin = np.min(MSEc_train)\n",
        "ymax = np.max(MSEc_train)\n",
        "\n",
        "fig  = plt.figure(figsize=(10,3))\n",
        "axes = fig.subplots(1,2)\n",
        "axes[0].plot(MSEp_train, 'x-', label='MSE train')\n",
        "axes[0].plot(MSEp_test, 'x-', label='MSE test')\n",
        "axes[0].set_ylabel('MSE', fontsize=15)\n",
        "axes[0].set_xlabel('K', fontsize=15)\n",
        "axes[0].set_title('Polynomial', fontsize=17)\n",
        "axes[0].legend(fontsize=10)\n",
        "axes[0].set_yscale('log')\n",
        "axes[0].set_ylim([ymin, ymax*2])\n",
        "axes[1].plot(MSEc_train, 'x-', label='MSE train')\n",
        "axes[1].plot(MSEc_test, 'x-', label='MSE test')\n",
        "axes[1].set_ylabel('MSE', fontsize=15)\n",
        "axes[1].set_xlabel('K', fontsize=15)\n",
        "axes[1].set_title('Cosine', fontsize=17)\n",
        "axes[1].legend(fontsize=10)\n",
        "axes[1].set_yscale('log')\n",
        "axes[1].set_ylim([ymin, ymax*2])\n",
        "print('done')"
      ],
      "execution_count": null,
      "outputs": []
    },
    {
      "cell_type": "markdown",
      "metadata": {
        "id": "PQsVK4RsHWTt"
      },
      "source": [
        "*   4.1節の図について，以下の質問に答えよ．\n",
        "  *  青い線が示しているものは何か？\n",
        "  *  オレンジの線が示しているものは何か？\n",
        "  *  「過学習」と呼ばれる現象はどのようなときに起きているか？\n"
      ]
    }
  ]
}